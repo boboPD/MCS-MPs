{
 "cells": [
  {
   "cell_type": "code",
   "execution_count": 19,
   "metadata": {},
   "outputs": [
    {
     "data": {
      "image/png": "[encoded data removed]",
      "text/plain": [
       "<Figure size 432x288 with 1 Axes>"
      ]
     },
     "metadata": {
      "needs_background": "light"
     },
     "output_type": "display_data"
    }
   ],
   "source": [
    "import matplotlib.pyplot as plt\n",
    "import csv\n",
    "\n",
    "x = []\n",
    "y = []\n",
    "with open(\"./places.txt\", \"r\", encoding=\"utf8\") as f:\n",
    "    data = csv.reader(f, delimiter=\",\")\n",
    "    for row in data:\n",
    "        x.append(float(row[0]))\n",
    "        y.append(float(row[1]))\n",
    "\n",
    "plt.scatter(x, y)\n",
    "plt.xlabel(\"Lat\")\n",
    "plt.ylabel(\"Long\")\n",
    "plt.show()"
   ]
  },
  {
   "cell_type": "code",
   "execution_count": 20,
   "metadata": {},
   "outputs": [],
   "source": [
    "#Initialise the cluster centres\n",
    "clustersY = [33, 35, 43]\n",
    "clustersX = [-108, -81, -81]"
   ]
  },
  {
   "cell_type": "code",
   "execution_count": 24,
   "metadata": {},
   "outputs": [],
   "source": [
    "#Distance function\n",
    "def get_distance(a, b):\n",
    "    x1, y1 = a\n",
    "    x2, y2 = b\n",
    "    \n",
    "    return ((x2-x1)**2) + ((y2-y1)**2)"
   ]
  },
  {
   "cell_type": "code",
   "execution_count": 25,
   "metadata": {},
   "outputs": [],
   "source": [
    "def assign_clusters(pointsx, pointsy):\n",
    "    assigned_clusters = []\n",
    "    for i in range(len(pointsx)):\n",
    "        point = (pointsx[i], pointsy[i])\n",
    "        center1 = (clustersX[0], clustersY[0])\n",
    "        center2 = (clustersX[1], clustersY[1])\n",
    "        center3 = (clustersX[2], clustersY[2])\n",
    "        d1 = get_distance(point, center1)\n",
    "        d2 = get_distance(point, center2)\n",
    "        d3 = get_distance(point, center3)\n",
    "        \n",
    "        distances = [d1, d2, d3]\n",
    "        result = distances.index(min(distances))\n",
    "        \n",
    "        assigned_clusters.append(result)\n",
    "    \n",
    "    return assigned_clusters\n",
    "\n",
    "def calculate_centres(px, py, cluster):\n",
    "    sumsX = [0, 0, 0]\n",
    "    sumsY = [0, 0, 0]\n",
    "    counts = [0, 0, 0]\n",
    "    \n",
    "    for i in range(len(px)):\n",
    "        sumsX[cluster[i]] = sumsX[cluster[i]] + px[i]\n",
    "        sumsY[cluster[i]] = sumsY[cluster[i]] + py[i]\n",
    "        counts[cluster[i]] = counts[cluster[i]] + 1\n",
    "    \n",
    "    for j in range(3):\n",
    "        clustersX[j] = sumsX[j]/counts[j]\n",
    "        clustersY[j] = sumsY[j]/counts[j]\n",
    "\n",
    "def updated_cluster_count(prev_clusters, new_clusters):\n",
    "    count = 0\n",
    "    for i in range(len(prev_clusters)):\n",
    "        if prev_clusters[i] != new_clusters[i]:\n",
    "            count = count + 1\n",
    "    \n",
    "    return count"
   ]
  },
  {
   "cell_type": "code",
   "execution_count": 27,
   "metadata": {},
   "outputs": [
    {
     "data": {
      "text/plain": [
       "<matplotlib.collections.PathCollection at 0x1d7072ab948>"
      ]
     },
     "execution_count": 27,
     "metadata": {},
     "output_type": "execute_result"
    },
    {
     "data": {
      "image/png": "[encoded data removed]",
      "text/plain": [
       "<Figure size 432x288 with 1 Axes>"
      ]
     },
     "metadata": {
      "needs_background": "light"
     },
     "output_type": "display_data"
    }
   ],
   "source": [
    "i = 0\n",
    "new_clusters = []\n",
    "while True:\n",
    "    new_clusters = assign_clusters(x, y)\n",
    "    calculate_centres(x, y, new_clusters)\n",
    "    \n",
    "    if i != 0 and updated_cluster_count(prev_clusters, new_clusters) == 0:\n",
    "        break\n",
    "    i = i + 1\n",
    "    prev_clusters = new_clusters\n",
    "\n",
    "c0x = []\n",
    "c1x = []\n",
    "c2x = []\n",
    "c0y = []\n",
    "c1y = []\n",
    "c2y = []\n",
    "\n",
    "for i in range(len(x)):\n",
    "    if new_clusters[i] == 0:\n",
    "        c0x.append(x[i])\n",
    "        c0y.append(y[i])\n",
    "    elif new_clusters[i] == 1:\n",
    "        c1x.append(x[i])\n",
    "        c1y.append(y[i])\n",
    "    elif new_clusters[i] == 2:\n",
    "        c2x.append(x[i])\n",
    "        c2y.append(y[i])\n",
    "    else:\n",
    "        raise ValueError(\"Incorrect cluster\")\n",
    "\n",
    "plt.scatter(c0x, c0y, marker='o')\n",
    "plt.scatter(c1x, c1y, marker='+')\n",
    "plt.scatter(c2x, c2y, marker='v')"
   ]
  },
  {
   "cell_type": "code",
   "execution_count": 28,
   "metadata": {},
   "outputs": [],
   "source": [
    "with open(\"./clusters.txt\", \"w\", encoding=\"utf8\") as o:\n",
    "    for i in range(len(new_clusters)):\n",
    "        o.write(f\"{i} {new_clusters[i]}\\n\")"
   ]
  },
  {
   "cell_type": "code",
   "execution_count": null,
   "metadata": {},
   "outputs": [],
   "source": []
  }
 ],
 "metadata": {
  "kernelspec": {
   "display_name": "Python 3",
   "language": "python",
   "name": "python3"
  },
  "language_info": {
   "codemirror_mode": {
    "name": "ipython",
    "version": 3
   },
   "file_extension": ".py",
   "mimetype": "text/x-python",
   "name": "python",
   "nbconvert_exporter": "python",
   "pygments_lexer": "ipython3",
   "version": "3.7.4"
  }
 },
 "nbformat": 4,
 "nbformat_minor": 2
}
