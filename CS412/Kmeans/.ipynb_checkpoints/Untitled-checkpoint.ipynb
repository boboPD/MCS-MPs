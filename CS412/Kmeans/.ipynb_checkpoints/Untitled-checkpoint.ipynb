{
 "cells": [
  {
   "cell_type": "code",
   "execution_count": 16,
   "metadata": {},
   "outputs": [
    {
     "data": {
      "image/png": "[encoded data removed]",
      "text/plain": [
       "<Figure size 432x288 with 1 Axes>"
      ]
     },
     "metadata": {
      "needs_background": "light"
     },
     "output_type": "display_data"
    }
   ],
   "source": [
    "import matplotlib.pyplot as plt\n",
    "import csv\n",
    "\n",
    "x = []\n",
    "y = []\n",
    "with open(\"./places.txt\", \"r\", encoding=\"utf8\") as f:\n",
    "    data = csv.reader(f, delimiter=\",\")\n",
    "    for row in data:\n",
    "        x.append(float(row[0]))\n",
    "        y.append(float(row[1]))\n",
    "\n",
    "plt.scatter(y, x)\n",
    "plt.ylabel(\"Lat\")\n",
    "plt.xlabel(\"Long\")\n",
    "plt.show()"
   ]
  },
  {
   "cell_type": "code",
   "execution_count": 17,
   "metadata": {},
   "outputs": [],
   "source": [
    "#Initialise the cluster centres\n",
    "clustersX = [33, 35, 43]\n",
    "clustersY = [-108, -81, -81]\n",
    "\n",
    "assigned_clusters = []"
   ]
  },
  {
   "cell_type": "code",
   "execution_count": null,
   "metadata": {},
   "outputs": [],
   "source": [
    "#Distance function\n",
    "def get_distance(a, b):\n",
    "    x1, y1 = a\n",
    "    x2, y2 = b\n",
    "    \n",
    "    return ((x2-x1)**2) + ((y2-y1)**2)"
   ]
  },
  {
   "cell_type": "code",
   "execution_count": null,
   "metadata": {},
   "outputs": [],
   "source": [
    "def assign_clusters(pointsx, pointsy):\n",
    "    for i in range(len(pointsx)):\n",
    "        point = (pointsx[i], pointsy[i])\n",
    "        center1 = (clustersX[0], clustersY[0])\n",
    "        center2 = (clustersX[1], clustersY[1])\n",
    "        center3 = (clustersX[2], clustersY[2])\n",
    "        d1 = get_distance(point, center1)\n",
    "        d2 = get_distance(point, center2)\n",
    "        d3 = get_distance(point, center3)\n",
    "        \n",
    "        distances = [d1, d2, d3]\n",
    "        result = distances.index(distances.min())\n",
    "        \n",
    "        return result\n",
    "\n",
    "def calculate_centres(px, py, cluster):\n",
    "    sumsX = [0, 0, 0]\n",
    "    sumsY = [0, 0, 0]\n",
    "    counts = [0, 0, 0]\n",
    "    \n",
    "    for i in range(px):\n",
    "        sumsX[cluster[i]] = sumsX[cluster[i]] + px[i]\n",
    "        sumsY[cluster[i]] = sumsY[cluster[i]] + py[i]\n",
    "        counts[cluster[i]] = counts[cluster[i]] + 1\n",
    "    \n",
    "    for j in range(3):\n",
    "        clustersX[j] = sumsX[j]/counts[j]\n",
    "        clustersY[j] = sumsY[j]/counts[j]\n",
    "        "
   ]
  }
 ],
 "metadata": {
  "kernelspec": {
   "display_name": "Python 3",
   "language": "python",
   "name": "python3"
  },
  "language_info": {
   "codemirror_mode": {
    "name": "ipython",
    "version": 3
   },
   "file_extension": ".py",
   "mimetype": "text/x-python",
   "name": "python",
   "nbconvert_exporter": "python",
   "pygments_lexer": "ipython3",
   "version": "3.7.4"
  }
 },
 "nbformat": 4,
 "nbformat_minor": 2
}
